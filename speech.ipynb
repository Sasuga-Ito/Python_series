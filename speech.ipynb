{
  "nbformat": 4,
  "nbformat_minor": 0,
  "metadata": {
    "colab": {
      "name": "speech.ipynb",
      "provenance": [],
      "authorship_tag": "ABX9TyN7BmiE7uAs8eH0ItarZ0i7",
      "include_colab_link": true
    },
    "kernelspec": {
      "name": "python3",
      "display_name": "Python 3"
    },
    "language_info": {
      "name": "python"
    }
  },
  "cells": [
    {
      "cell_type": "markdown",
      "metadata": {
        "id": "view-in-github",
        "colab_type": "text"
      },
      "source": [
        "<a href=\"https://colab.research.google.com/github/Sasuga-Ito/Python_series/blob/main/speech.ipynb\" target=\"_parent\"><img src=\"https://colab.research.google.com/assets/colab-badge.svg\" alt=\"Open In Colab\"/></a>"
      ]
    },
    {
      "cell_type": "code",
      "execution_count": 1,
      "metadata": {
        "colab": {
          "base_uri": "https://localhost:8080/"
        },
        "id": "Y9Dv6b2bPNkT",
        "outputId": "90892589-0572-4c3c-b0ad-fe7fd4e90f98"
      },
      "outputs": [
        {
          "output_type": "stream",
          "name": "stdout",
          "text": [
            "Collecting SpeechRecognition\n",
            "  Downloading SpeechRecognition-3.8.1-py2.py3-none-any.whl (32.8 MB)\n",
            "\u001b[K     |████████████████████████████████| 32.8 MB 1.2 MB/s \n",
            "\u001b[?25hInstalling collected packages: SpeechRecognition\n",
            "Successfully installed SpeechRecognition-3.8.1\n"
          ]
        }
      ],
      "source": [
        "pip install SpeechRecognition"
      ]
    },
    {
      "cell_type": "code",
      "source": [
        "import speech_recognition as sr\n",
        " \n",
        "voice = sr.Recognizer()\n",
        " \n",
        "with sr.AudioFile(\"test.wav\") as source:\n",
        "    audio = voice.record(source)\n",
        " \n",
        "text = voice.recognize_google(audio, language='ja-JP')\n",
        " \n",
        "print('My voice is ',text)"
      ],
      "metadata": {
        "colab": {
          "base_uri": "https://localhost:8080/"
        },
        "id": "xx4t5Mf8Rcpz",
        "outputId": "83e8c27f-69a1-4a77-ae70-1e98ed360611"
      },
      "execution_count": 3,
      "outputs": [
        {
          "output_type": "stream",
          "name": "stdout",
          "text": [
            "My voice is  こんにちは バルシャークです 今日も動画をご覧いただきありがとうございます 今日の動画ではグーグル コラボラトリー と Python を使って音声自動認識による文字起こし をやっていきたいと思います ここでは音声認識エンジンとして Google スピーチ レコグニションを利用して全部で7 行程度の Python のコードを書くことによって自動認識を行っていきたいと思います\n"
          ]
        }
      ]
    }
  ]
}